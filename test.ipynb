{
 "cells": [
  {
   "cell_type": "markdown",
   "id": "8ba0cda4",
   "metadata": {},
   "source": [
    "<h1>Stroke Prediction</h1>\n",
    "\n",
    "Using a dataset containing patient attributes, I will attempt to model and predict the occurance of strokes in the patient. Initially, I will only be using the SVM polynomial kernel. Further itterations will make use of different approaches.  \n",
    "\n",
    "This stroke prediction dataset contains 5110 observations with 12 attributes. As mentioned previously, one of these attributes will be our response variable, i.e., whether the patient suffered a stroke or not. The attributes contained have both categorical and numerical values. A full description of all variables can be seen below:\n",
    "1.\tID (categorical): Unique identifier\n",
    "2.\tGender (categorical): “Male”, “Female”, or “Other”\n",
    "3.\tAge (numerical): Age of the patient\n",
    "4.\tHypertension (categorical): 0 if the patient does not have hypertension and 1 if the patient does\n",
    "5.\tHeart Disease (categorical): 0 if the patient does not have any heart diseases, 1 if the patient has a heart disease\n",
    "6.\tEver Married (categorical): “Yes” or “No” \n",
    "7.\tWork type (categorical): \"children\", \"Govt_jov\", \"Never_worked\", \"Private\" or \"Self-employed\"\n",
    "8.\tResidence (categorical): “Urban” or “Rural”\n",
    "9.\tAverage Glucose (numerical): Average glucose level in blood\n",
    "10.\tBMI (numerical): Patient body mass index\n",
    "11.\tSmoking (categorical): \"formerly smoked\", \"never smoked\", \"smokes\" or \"Unknown\"\n",
    "12.\tStroke (categorical): Dummy variable, 0 if the patient never had a stroke, 1 if the patient has had a stroke. This will be our response variable.\n",
    "\n",
    "One of the biggest challenges in this dataset is the heavy class imbalance (~1:20). This means that sampling approaches such as oversampling, undersampling and/or SMOTE will be required. This of considerable importance as we are dealing with a medical diagnosis situation and it is desirable to reduce the false negatives as much as possible.\n",
    "\n",
    "See below the libraries required for this project.\n"
   ]
  },
  {
   "cell_type": "code",
   "execution_count": 1,
   "id": "fc409965",
   "metadata": {},
   "outputs": [
    {
     "name": "stderr",
     "output_type": "stream",
     "text": [
      "\n",
      "Attaching package: 'e1071'\n",
      "\n",
      "\n",
      "The following object is masked from 'package:mltools':\n",
      "\n",
      "    skewness\n",
      "\n",
      "\n",
      "Loading required package: ggplot2\n",
      "\n",
      "\n",
      "Attaching package: 'MLmetrics'\n",
      "\n",
      "\n",
      "The following object is masked from 'package:base':\n",
      "\n",
      "    Recall\n",
      "\n",
      "\n",
      "Loading required package: lattice\n",
      "\n",
      "\n",
      "Attaching package: 'caret'\n",
      "\n",
      "\n",
      "The following objects are masked from 'package:MLmetrics':\n",
      "\n",
      "    MAE, RMSE\n",
      "\n",
      "\n",
      "\n",
      "Attaching package: 'kernlab'\n",
      "\n",
      "\n",
      "The following object is masked from 'package:ggplot2':\n",
      "\n",
      "    alpha\n",
      "\n",
      "\n",
      "Loading required package: recipes\n",
      "\n",
      "Loading required package: dplyr\n",
      "\n",
      "\n",
      "Attaching package: 'dplyr'\n",
      "\n",
      "\n",
      "The following objects are masked from 'package:data.table':\n",
      "\n",
      "    between, first, last\n",
      "\n",
      "\n",
      "The following objects are masked from 'package:stats':\n",
      "\n",
      "    filter, lag\n",
      "\n",
      "\n",
      "The following objects are masked from 'package:base':\n",
      "\n",
      "    intersect, setdiff, setequal, union\n",
      "\n",
      "\n",
      "\n",
      "Attaching package: 'recipes'\n",
      "\n",
      "\n",
      "The following object is masked from 'package:stats':\n",
      "\n",
      "    step\n",
      "\n",
      "\n",
      "\n",
      "Attaching package: 'themis'\n",
      "\n",
      "\n",
      "The following objects are masked from 'package:recipes':\n",
      "\n",
      "    step_downsample, step_upsample\n",
      "\n",
      "\n"
     ]
    }
   ],
   "source": [
    "library(data.table)\n",
    "library(mltools)\n",
    "library(e1071)\n",
    "library(ggcorrplot)\n",
    "library(MLmetrics)\n",
    "library(caret)\n",
    "library(kernlab)\n",
    "library(themis)"
   ]
  },
  {
   "cell_type": "markdown",
   "id": "aa428bb4",
   "metadata": {},
   "source": [
    "<h3>Data Cleaning</h3>\n",
    "\n",
    "We will first load the dataset, examine its characteristics by calling the summary and str functions."
   ]
  },
  {
   "cell_type": "code",
   "execution_count": 2,
   "id": "a0ad4824",
   "metadata": {},
   "outputs": [],
   "source": [
    "data <- read.csv(\"healthcare-dataset-stroke-data.csv\")\n"
   ]
  },
  {
   "cell_type": "code",
   "execution_count": 3,
   "id": "7f6d58b2",
   "metadata": {},
   "outputs": [
    {
     "data": {
      "text/html": [
       "<table class=\"dataframe\">\n",
       "<caption>A data.frame: 6 × 12</caption>\n",
       "<thead>\n",
       "\t<tr><th></th><th scope=col>id</th><th scope=col>gender</th><th scope=col>age</th><th scope=col>hypertension</th><th scope=col>heart_disease</th><th scope=col>ever_married</th><th scope=col>work_type</th><th scope=col>Residence_type</th><th scope=col>avg_glucose_level</th><th scope=col>bmi</th><th scope=col>smoking_status</th><th scope=col>stroke</th></tr>\n",
       "\t<tr><th></th><th scope=col>&lt;int&gt;</th><th scope=col>&lt;chr&gt;</th><th scope=col>&lt;dbl&gt;</th><th scope=col>&lt;int&gt;</th><th scope=col>&lt;int&gt;</th><th scope=col>&lt;chr&gt;</th><th scope=col>&lt;chr&gt;</th><th scope=col>&lt;chr&gt;</th><th scope=col>&lt;dbl&gt;</th><th scope=col>&lt;chr&gt;</th><th scope=col>&lt;chr&gt;</th><th scope=col>&lt;int&gt;</th></tr>\n",
       "</thead>\n",
       "<tbody>\n",
       "\t<tr><th scope=row>1</th><td> 9046</td><td>Male  </td><td>67</td><td>0</td><td>1</td><td>Yes</td><td>Private      </td><td>Urban</td><td>228.69</td><td>36.6</td><td>formerly smoked</td><td>1</td></tr>\n",
       "\t<tr><th scope=row>2</th><td>51676</td><td>Female</td><td>61</td><td>0</td><td>0</td><td>Yes</td><td>Self-employed</td><td>Rural</td><td>202.21</td><td>N/A </td><td>never smoked   </td><td>1</td></tr>\n",
       "\t<tr><th scope=row>3</th><td>31112</td><td>Male  </td><td>80</td><td>0</td><td>1</td><td>Yes</td><td>Private      </td><td>Rural</td><td>105.92</td><td>32.5</td><td>never smoked   </td><td>1</td></tr>\n",
       "\t<tr><th scope=row>4</th><td>60182</td><td>Female</td><td>49</td><td>0</td><td>0</td><td>Yes</td><td>Private      </td><td>Urban</td><td>171.23</td><td>34.4</td><td>smokes         </td><td>1</td></tr>\n",
       "\t<tr><th scope=row>5</th><td> 1665</td><td>Female</td><td>79</td><td>1</td><td>0</td><td>Yes</td><td>Self-employed</td><td>Rural</td><td>174.12</td><td>24  </td><td>never smoked   </td><td>1</td></tr>\n",
       "\t<tr><th scope=row>6</th><td>56669</td><td>Male  </td><td>81</td><td>0</td><td>0</td><td>Yes</td><td>Private      </td><td>Urban</td><td>186.21</td><td>29  </td><td>formerly smoked</td><td>1</td></tr>\n",
       "</tbody>\n",
       "</table>\n"
      ],
      "text/latex": [
       "A data.frame: 6 × 12\n",
       "\\begin{tabular}{r|llllllllllll}\n",
       "  & id & gender & age & hypertension & heart\\_disease & ever\\_married & work\\_type & Residence\\_type & avg\\_glucose\\_level & bmi & smoking\\_status & stroke\\\\\n",
       "  & <int> & <chr> & <dbl> & <int> & <int> & <chr> & <chr> & <chr> & <dbl> & <chr> & <chr> & <int>\\\\\n",
       "\\hline\n",
       "\t1 &  9046 & Male   & 67 & 0 & 1 & Yes & Private       & Urban & 228.69 & 36.6 & formerly smoked & 1\\\\\n",
       "\t2 & 51676 & Female & 61 & 0 & 0 & Yes & Self-employed & Rural & 202.21 & N/A  & never smoked    & 1\\\\\n",
       "\t3 & 31112 & Male   & 80 & 0 & 1 & Yes & Private       & Rural & 105.92 & 32.5 & never smoked    & 1\\\\\n",
       "\t4 & 60182 & Female & 49 & 0 & 0 & Yes & Private       & Urban & 171.23 & 34.4 & smokes          & 1\\\\\n",
       "\t5 &  1665 & Female & 79 & 1 & 0 & Yes & Self-employed & Rural & 174.12 & 24   & never smoked    & 1\\\\\n",
       "\t6 & 56669 & Male   & 81 & 0 & 0 & Yes & Private       & Urban & 186.21 & 29   & formerly smoked & 1\\\\\n",
       "\\end{tabular}\n"
      ],
      "text/markdown": [
       "\n",
       "A data.frame: 6 × 12\n",
       "\n",
       "| <!--/--> | id &lt;int&gt; | gender &lt;chr&gt; | age &lt;dbl&gt; | hypertension &lt;int&gt; | heart_disease &lt;int&gt; | ever_married &lt;chr&gt; | work_type &lt;chr&gt; | Residence_type &lt;chr&gt; | avg_glucose_level &lt;dbl&gt; | bmi &lt;chr&gt; | smoking_status &lt;chr&gt; | stroke &lt;int&gt; |\n",
       "|---|---|---|---|---|---|---|---|---|---|---|---|---|\n",
       "| 1 |  9046 | Male   | 67 | 0 | 1 | Yes | Private       | Urban | 228.69 | 36.6 | formerly smoked | 1 |\n",
       "| 2 | 51676 | Female | 61 | 0 | 0 | Yes | Self-employed | Rural | 202.21 | N/A  | never smoked    | 1 |\n",
       "| 3 | 31112 | Male   | 80 | 0 | 1 | Yes | Private       | Rural | 105.92 | 32.5 | never smoked    | 1 |\n",
       "| 4 | 60182 | Female | 49 | 0 | 0 | Yes | Private       | Urban | 171.23 | 34.4 | smokes          | 1 |\n",
       "| 5 |  1665 | Female | 79 | 1 | 0 | Yes | Self-employed | Rural | 174.12 | 24   | never smoked    | 1 |\n",
       "| 6 | 56669 | Male   | 81 | 0 | 0 | Yes | Private       | Urban | 186.21 | 29   | formerly smoked | 1 |\n",
       "\n"
      ],
      "text/plain": [
       "  id    gender age hypertension heart_disease ever_married work_type    \n",
       "1  9046 Male   67  0            1             Yes          Private      \n",
       "2 51676 Female 61  0            0             Yes          Self-employed\n",
       "3 31112 Male   80  0            1             Yes          Private      \n",
       "4 60182 Female 49  0            0             Yes          Private      \n",
       "5  1665 Female 79  1            0             Yes          Self-employed\n",
       "6 56669 Male   81  0            0             Yes          Private      \n",
       "  Residence_type avg_glucose_level bmi  smoking_status  stroke\n",
       "1 Urban          228.69            36.6 formerly smoked 1     \n",
       "2 Rural          202.21            N/A  never smoked    1     \n",
       "3 Rural          105.92            32.5 never smoked    1     \n",
       "4 Urban          171.23            34.4 smokes          1     \n",
       "5 Rural          174.12            24   never smoked    1     \n",
       "6 Urban          186.21            29   formerly smoked 1     "
      ]
     },
     "metadata": {},
     "output_type": "display_data"
    }
   ],
   "source": [
    "head(data)"
   ]
  },
  {
   "cell_type": "code",
   "execution_count": 4,
   "id": "189d54b2",
   "metadata": {},
   "outputs": [
    {
     "data": {
      "text/plain": [
       "       id           gender               age         hypertension    \n",
       " Min.   :   67   Length:5110        Min.   : 0.08   Min.   :0.00000  \n",
       " 1st Qu.:17741   Class :character   1st Qu.:25.00   1st Qu.:0.00000  \n",
       " Median :36932   Mode  :character   Median :45.00   Median :0.00000  \n",
       " Mean   :36518                      Mean   :43.23   Mean   :0.09746  \n",
       " 3rd Qu.:54682                      3rd Qu.:61.00   3rd Qu.:0.00000  \n",
       " Max.   :72940                      Max.   :82.00   Max.   :1.00000  \n",
       " heart_disease     ever_married        work_type         Residence_type    \n",
       " Min.   :0.00000   Length:5110        Length:5110        Length:5110       \n",
       " 1st Qu.:0.00000   Class :character   Class :character   Class :character  \n",
       " Median :0.00000   Mode  :character   Mode  :character   Mode  :character  \n",
       " Mean   :0.05401                                                           \n",
       " 3rd Qu.:0.00000                                                           \n",
       " Max.   :1.00000                                                           \n",
       " avg_glucose_level     bmi            smoking_status         stroke       \n",
       " Min.   : 55.12    Length:5110        Length:5110        Min.   :0.00000  \n",
       " 1st Qu.: 77.25    Class :character   Class :character   1st Qu.:0.00000  \n",
       " Median : 91.89    Mode  :character   Mode  :character   Median :0.00000  \n",
       " Mean   :106.15                                          Mean   :0.04873  \n",
       " 3rd Qu.:114.09                                          3rd Qu.:0.00000  \n",
       " Max.   :271.74                                          Max.   :1.00000  "
      ]
     },
     "metadata": {},
     "output_type": "display_data"
    }
   ],
   "source": [
    "summary(data)"
   ]
  },
  {
   "cell_type": "code",
   "execution_count": 5,
   "id": "5cbe0dc1",
   "metadata": {},
   "outputs": [
    {
     "name": "stdout",
     "output_type": "stream",
     "text": [
      "'data.frame':\t5110 obs. of  12 variables:\n",
      " $ id               : int  9046 51676 31112 60182 1665 56669 53882 10434 27419 60491 ...\n",
      " $ gender           : chr  \"Male\" \"Female\" \"Male\" \"Female\" ...\n",
      " $ age              : num  67 61 80 49 79 81 74 69 59 78 ...\n",
      " $ hypertension     : int  0 0 0 0 1 0 1 0 0 0 ...\n",
      " $ heart_disease    : int  1 0 1 0 0 0 1 0 0 0 ...\n",
      " $ ever_married     : chr  \"Yes\" \"Yes\" \"Yes\" \"Yes\" ...\n",
      " $ work_type        : chr  \"Private\" \"Self-employed\" \"Private\" \"Private\" ...\n",
      " $ Residence_type   : chr  \"Urban\" \"Rural\" \"Rural\" \"Urban\" ...\n",
      " $ avg_glucose_level: num  229 202 106 171 174 ...\n",
      " $ bmi              : chr  \"36.6\" \"N/A\" \"32.5\" \"34.4\" ...\n",
      " $ smoking_status   : chr  \"formerly smoked\" \"never smoked\" \"never smoked\" \"smokes\" ...\n",
      " $ stroke           : int  1 1 1 1 1 1 1 1 1 1 ...\n"
     ]
    }
   ],
   "source": [
    "str(data)"
   ]
  },
  {
   "cell_type": "code",
   "execution_count": 6,
   "id": "ca56de28",
   "metadata": {},
   "outputs": [
    {
     "name": "stdout",
     "output_type": "stream",
     "text": [
      "'data.frame':\t201 obs. of  12 variables:\n",
      " $ id               : int  51676 27419 8213 25226 61843 69160 1845 37937 18587 15102 ...\n",
      " $ gender           : chr  \"Female\" \"Female\" \"Male\" \"Male\" ...\n",
      " $ age              : num  61 59 78 57 58 59 63 75 76 78 ...\n",
      " $ hypertension     : int  0 0 0 0 0 0 0 0 0 1 ...\n",
      " $ heart_disease    : int  0 0 1 1 0 0 0 1 0 0 ...\n",
      " $ ever_married     : chr  \"Yes\" \"Yes\" \"Yes\" \"No\" ...\n",
      " $ work_type        : chr  \"Self-employed\" \"Private\" \"Private\" \"Govt_job\" ...\n",
      " $ Residence_type   : chr  \"Rural\" \"Rural\" \"Urban\" \"Urban\" ...\n",
      " $ avg_glucose_level: num  202.2 76.2 219.8 217.1 189.8 ...\n",
      " $ bmi              : chr  \"N/A\" \"N/A\" \"N/A\" \"N/A\" ...\n",
      " $ smoking_status   : chr  \"never smoked\" \"Unknown\" \"Unknown\" \"Unknown\" ...\n",
      " $ stroke           : int  1 1 1 1 1 1 1 1 1 1 ...\n"
     ]
    }
   ],
   "source": [
    "str(data[data$bmi==\"N/A\",])"
   ]
  },
  {
   "cell_type": "code",
   "execution_count": 7,
   "id": "aee0f70e",
   "metadata": {},
   "outputs": [
    {
     "name": "stdout",
     "output_type": "stream",
     "text": [
      "'data.frame':\t1544 obs. of  12 variables:\n",
      " $ id               : int  27419 60491 8213 25226 64778 61843 33879 47306 37937 18587 ...\n",
      " $ gender           : chr  \"Female\" \"Female\" \"Male\" \"Male\" ...\n",
      " $ age              : num  59 78 78 57 82 58 42 58 75 76 ...\n",
      " $ hypertension     : int  0 0 0 0 0 0 0 0 0 0 ...\n",
      " $ heart_disease    : int  0 0 1 1 1 0 0 0 1 0 ...\n",
      " $ ever_married     : chr  \"Yes\" \"Yes\" \"Yes\" \"No\" ...\n",
      " $ work_type        : chr  \"Private\" \"Private\" \"Private\" \"Govt_job\" ...\n",
      " $ Residence_type   : chr  \"Rural\" \"Urban\" \"Urban\" \"Urban\" ...\n",
      " $ avg_glucose_level: num  76.2 58.6 219.8 217.1 208.3 ...\n",
      " $ bmi              : chr  \"N/A\" \"24.2\" \"N/A\" \"N/A\" ...\n",
      " $ smoking_status   : chr  \"Unknown\" \"Unknown\" \"Unknown\" \"Unknown\" ...\n",
      " $ stroke           : int  1 1 1 1 1 1 1 1 1 1 ...\n"
     ]
    }
   ],
   "source": [
    "str(data[data$smoking_status==\"Unknown\",])"
   ]
  },
  {
   "cell_type": "markdown",
   "id": "752cce1e",
   "metadata": {},
   "source": [
    "I will removing the \"id\" attribute as it is just an identifier of the patient with no impact on their characteristics. I will then convert the class of the categorical attributes from character to factors, as to run One-Hot encodding later on.\n",
    "\n",
    "Regarding smoking status, there are quite a few of \"Unknown\" values (1544), so for now I am going to be leaving them as it is, but further iterations may benefit from using approaches such as MissForest to make predictions for these attributes by taking into account the other attributes of these observations. "
   ]
  },
  {
   "cell_type": "code",
   "execution_count": 8,
   "id": "3313ac0b",
   "metadata": {},
   "outputs": [],
   "source": [
    "data$id <- NULL #remove id attribute, as it doesnt provide info\n",
    "\n",
    "#convert to factor variables that are strings as to run one-hot encoding\n",
    "data$gender <- as.factor(data$gender)\n",
    "data$ever_married <- as.factor(data$ever_married) \n",
    "data$work_type <- as.factor(data$work_type)\n",
    "data$Residence_type <- as.factor(data$Residence_type)\n",
    "data$smoking_status<- as.factor(data$smoking_status)"
   ]
  },
  {
   "cell_type": "markdown",
   "id": "84589e5f",
   "metadata": {},
   "source": [
    "Some missing values are present in the BMI attribute. After converting the variable to numeric, and examining the skewedness of the BMI data, we will be replacing the missing values with either the mean or the median."
   ]
  },
  {
   "cell_type": "code",
   "execution_count": 9,
   "id": "cae4062d",
   "metadata": {},
   "outputs": [],
   "source": [
    "databmi <- data[data$bmi!=\"N/A\",] #remove N/A from BMI observations\n",
    "databmi$bmi<- as.numeric(databmi$bmi)"
   ]
  },
  {
   "cell_type": "code",
   "execution_count": 10,
   "id": "34f188ea",
   "metadata": {},
   "outputs": [
    {
     "data": {
      "image/png": "[encoded data removed]",
      "text/plain": [
       "Plot with title \"Histogram of databmi$bmi\""
      ]
     },
     "metadata": {
      "image/png": {
       "height": 420,
       "width": 420
      }
     },
     "output_type": "display_data"
    }
   ],
   "source": [
    "hist(databmi$bmi)"
   ]
  },
  {
   "cell_type": "markdown",
   "id": "dacdcb98",
   "metadata": {},
   "source": [
    "The BMI data looks skewed to the right, so I will be replacing the missing values with the median value.\n"
   ]
  },
  {
   "cell_type": "code",
   "execution_count": 11,
   "id": "c603c9c4",
   "metadata": {},
   "outputs": [],
   "source": [
    "medianbmi <- toString(median(databmi$bmi)) #converting to string the median value\n",
    "data[data$bmi==\"N/A\",]$bmi <- medianbmi #replacing N/A values in data set with median value\n",
    "data$bmi<- as.numeric(data$bmi) #convert bmi from str to numeric"
   ]
  },
  {
   "cell_type": "markdown",
   "id": "1a86c691",
   "metadata": {},
   "source": [
    "Next, I will be running One Hot encoding for all the categorical values, which will put the data in a form that is able to be modeled later on using SVM"
   ]
  },
  {
   "cell_type": "code",
   "execution_count": 12,
   "id": "b43a5b74",
   "metadata": {},
   "outputs": [],
   "source": [
    "#Run one hot encoding for categorical variables\n",
    "newdata <- one_hot(as.data.table(data)) \n",
    "\n",
    "#convert to data frame\n",
    "data.df <- as.data.frame(newdata)\n"
   ]
  },
  {
   "cell_type": "markdown",
   "id": "224feb0c",
   "metadata": {},
   "source": [
    "I want to look at the correlation of the different variables. Particularly, I want to see the correlation between the attributes\n",
    "and the stroke class. Further down the line, I may select the variables that are most correlated and see what results are obtained and how they differ from not removing any of the attributes.\n"
   ]
  },
  {
   "cell_type": "code",
   "execution_count": 13,
   "id": "afa2577b",
   "metadata": {},
   "outputs": [
    {
     "data": {
      "image/png": "[encoded data removed]",
      "text/plain": [
       "plot without title"
      ]
     },
     "metadata": {
      "image/png": {
       "height": 420,
       "width": 420
      }
     },
     "output_type": "display_data"
    }
   ],
   "source": [
    "#options(repr.plot.width = 100, repr.plot.height = 75, repr.plot.res = 100) #setting dimensions for the graph\n",
    "ggcorrplot(cor(data.df),hc.order = FALSE, type = \"lower\")\n",
    "  #ggtheme = ggplot2::theme_dark(), lab_size = 28, tl.cex = 100, show.legend = FALSE)\n"
   ]
  },
  {
   "cell_type": "markdown",
   "id": "2e9fac5e",
   "metadata": {},
   "source": [
    "<h3>Data Modeling</h3>\n",
    "\n",
    "I will split the dataset into training and testing (80:20). I will also be scaling the data to ensure that the different magnitudes of the numerical attributes do not have an impact on the results."
   ]
  },
  {
   "cell_type": "code",
   "execution_count": 14,
   "id": "57f27f0f",
   "metadata": {},
   "outputs": [
    {
     "name": "stderr",
     "output_type": "stream",
     "text": [
      "Warning message in RNGkind(sample.kind = \"Rounding\"):\n",
      "\"non-uniform 'Rounding' sampler used\"\n"
     ]
    }
   ],
   "source": [
    "RNGkind(sample.kind = \"Rounding\")\n",
    "set.seed(1)\n",
    "\n",
    "n <- nrow(data.df)\n",
    "col <- as.numeric(ncol(data.df))\n",
    "\n",
    "train <- sample(1:n, round(n*.8)) \n",
    "\n",
    "data.df$stroke<- as.factor(data.df$stroke)"
   ]
  },
  {
   "cell_type": "code",
   "execution_count": 15,
   "id": "509cedab",
   "metadata": {},
   "outputs": [],
   "source": [
    "scal.df.train <- scale(data.df[train,c(\"age\",\"bmi\", \"avg_glucose_level\")])\n",
    "scal.df.test <- scale(data.df[-train,c(\"age\",\"bmi\", \"avg_glucose_level\")],\n",
    "                      center = attr(scal.df.train, \"scaled:center\"),\n",
    "                      scale = attr(scal.df.train, \"scaled:scale\"))"
   ]
  },
  {
   "cell_type": "code",
   "execution_count": 16,
   "id": "3f75c815",
   "metadata": {},
   "outputs": [],
   "source": [
    "data.df[train,c(\"age\",\"bmi\", \"avg_glucose_level\")] <- scal.df.train\n",
    "data.df[-train,c(\"age\",\"bmi\", \"avg_glucose_level\")] <- scal.df.test"
   ]
  },
  {
   "cell_type": "code",
   "execution_count": 17,
   "id": "b5d592a0",
   "metadata": {},
   "outputs": [],
   "source": [
    "#saving the class variable for training and test as to compare later with the predictions of the model\n",
    "y.train <- data.df[train,\"stroke\"] \n",
    "y.test <- data.df[-train,\"stroke\"]\n",
    "\n"
   ]
  },
  {
   "cell_type": "code",
   "execution_count": 18,
   "id": "0d4ab409",
   "metadata": {},
   "outputs": [],
   "source": [
    "#Definining training and testing data sets\n",
    "\n",
    "data.df.train <- data.df[train,] \n",
    "data.df.test <- subset (data.df[-train,], select = -stroke)"
   ]
  },
  {
   "cell_type": "markdown",
   "id": "3dd1d833",
   "metadata": {},
   "source": [
    "The first fitting will be done using degree = 4, cost and gamma equal 1 to have a feel of where the results done. We will then conduct hyper parameter as well as some feature selection and compare the results to these initial results."
   ]
  },
  {
   "cell_type": "code",
   "execution_count": 19,
   "id": "edd6e5a2",
   "metadata": {},
   "outputs": [
    {
     "data": {
      "text/plain": [
       "    pred\n",
       "true    0    1\n",
       "   0 3879    3\n",
       "   1   35  171"
      ]
     },
     "metadata": {},
     "output_type": "display_data"
    },
    {
     "data": {
      "text/plain": [
       "    pred\n",
       "true   0   1\n",
       "   0 932  47\n",
       "   1  38   5"
      ]
     },
     "metadata": {},
     "output_type": "display_data"
    },
    {
     "name": "stdout",
     "output_type": "stream",
     "text": [
      "[1] 0.08317025\n"
     ]
    }
   ],
   "source": [
    "set.seed(1)\n",
    "\n",
    "svmfitunb <- svm(stroke~.,data= data.df.train,\n",
    "              kernel = \"polynomial\",\n",
    "              degree = 4,\n",
    "              cost = 1,\n",
    "              gamma = 1,\n",
    "              scale = FALSE)\n",
    "\n",
    "svm.predtrain  <- predict(svmfitunb ,newdata = data.df.train)\n",
    "\n",
    "table(true = y.train, pred = svm.predtrain)\n",
    "\n",
    "svm.predtest  <- predict(svmfitunb ,newdata = data.df.test)\n",
    "\n",
    "table(true = y.test, pred = svm.predtest)\n",
    "print(mean(svm.predtest != y.test))"
   ]
  },
  {
   "cell_type": "markdown",
   "id": "fb13f507",
   "metadata": {},
   "source": [
    "While the error% in prediction is 8.3%, this metric is not of much value in this case. As expected, the heavy class imbalance leads our model to predict heavily towards the majority class, that is, we see a large number of false negatives (recall = .116). To address this, I will conduct sampling using SMOTE, followed by undersampling. "
   ]
  },
  {
   "cell_type": "code",
   "execution_count": 20,
   "id": "d092f01f",
   "metadata": {},
   "outputs": [],
   "source": [
    "set.seed(1)\n",
    "\n",
    "smote_train <- smote(data.df.train, var = \"stroke\", over_ratio = .3) #used SMOTE, with a representation of 50% of the majority class observations"
   ]
  },
  {
   "cell_type": "markdown",
   "id": "939bf698",
   "metadata": {},
   "source": [
    "For the binary attributes, SMOTE does not identify a binary value. Since it calculates values that lie between neighbours, it will assign values between 0 and 1. I will round off these values so they represent more closely the original data."
   ]
  },
  {
   "cell_type": "code",
   "execution_count": 21,
   "id": "e66f8777",
   "metadata": {},
   "outputs": [],
   "source": [
    "cnames <- colnames(smote_train)\n",
    "num <- c(\"age\", \"bmi\", \"avg_glucose_level\", \"stroke\")"
   ]
  },
  {
   "cell_type": "code",
   "execution_count": 22,
   "id": "96f5646c",
   "metadata": {},
   "outputs": [],
   "source": [
    "nonnum <- cnames[!(cnames %in% num)]"
   ]
  },
  {
   "cell_type": "code",
   "execution_count": 23,
   "id": "8b3d46c4",
   "metadata": {},
   "outputs": [],
   "source": [
    "for (x in nonnum){\n",
    "    smote_train[,x] <- round(smote_train[,x])\n",
    "}\n"
   ]
  },
  {
   "cell_type": "code",
   "execution_count": 24,
   "id": "ab5db44e",
   "metadata": {},
   "outputs": [
    {
     "data": {
      "text/html": [
       "<style>\n",
       ".dl-inline {width: auto; margin:0; padding: 0}\n",
       ".dl-inline>dt, .dl-inline>dd {float: none; width: auto; display: inline-block}\n",
       ".dl-inline>dt::after {content: \":\\0020\"; padding-right: .5ex}\n",
       ".dl-inline>dt:not(:first-of-type) {padding-left: .5ex}\n",
       "</style><dl class=dl-inline><dt>0</dt><dd>3882</dd><dt>1</dt><dd>1164</dd></dl>\n"
      ],
      "text/latex": [
       "\\begin{description*}\n",
       "\\item[0] 3882\n",
       "\\item[1] 1164\n",
       "\\end{description*}\n"
      ],
      "text/markdown": [
       "0\n",
       ":   38821\n",
       ":   1164\n",
       "\n"
      ],
      "text/plain": [
       "   0    1 \n",
       "3882 1164 "
      ]
     },
     "metadata": {},
     "output_type": "display_data"
    }
   ],
   "source": [
    "summary(smote_train$stroke)"
   ]
  },
  {
   "cell_type": "markdown",
   "id": "090a55cb",
   "metadata": {},
   "source": [
    "I will now perform undersampling by selecting a number of the majority class values (1650 out of 4861) and merging them with the original minority classes, plus those created by SMOTE. A key assumption here is that the order of the observations in the data is random. Further iterations of this project would require a random approach to selecting these values through the use of a function."
   ]
  },
  {
   "cell_type": "code",
   "execution_count": 25,
   "id": "af23e340",
   "metadata": {},
   "outputs": [],
   "source": [
    "smote_nostroke <- smote_train[smote_train$stroke == 0, ] #extracted observations with no stroke\n",
    "smotedown_train_pre <- smote_nostroke[c(1:1650),] #selected 1650 observations (undersampling size that gave best results)\n",
    "smotedown_train <- rbind(smotedown_train_pre,smote_train[smote_train$stroke == 1, ]) #joined back together with stroke observations\n"
   ]
  },
  {
   "cell_type": "code",
   "execution_count": 26,
   "id": "acb3b009",
   "metadata": {},
   "outputs": [
    {
     "data": {
      "text/html": [
       "<style>\n",
       ".dl-inline {width: auto; margin:0; padding: 0}\n",
       ".dl-inline>dt, .dl-inline>dd {float: none; width: auto; display: inline-block}\n",
       ".dl-inline>dt::after {content: \":\\0020\"; padding-right: .5ex}\n",
       ".dl-inline>dt:not(:first-of-type) {padding-left: .5ex}\n",
       "</style><dl class=dl-inline><dt>0</dt><dd>1650</dd><dt>1</dt><dd>1164</dd></dl>\n"
      ],
      "text/latex": [
       "\\begin{description*}\n",
       "\\item[0] 1650\n",
       "\\item[1] 1164\n",
       "\\end{description*}\n"
      ],
      "text/markdown": [
       "0\n",
       ":   16501\n",
       ":   1164\n",
       "\n"
      ],
      "text/plain": [
       "   0    1 \n",
       "1650 1164 "
      ]
     },
     "metadata": {},
     "output_type": "display_data"
    }
   ],
   "source": [
    "summary(smotedown_train$stroke)"
   ]
  },
  {
   "cell_type": "markdown",
   "id": "85449b16",
   "metadata": {},
   "source": [
    "After doing the sampling, I will proceed to fit the data, modeled using the SVM polynomial kernel. I will be making use of 10 fold cross validation, with a focus on improving the F1 score, which is closely related to the recall score. In terms of hyperparameter search, I will be using a random search approach. This has resulted in good results for me in the past and it is preferable when dealing with limited computing power."
   ]
  },
  {
   "cell_type": "code",
   "execution_count": 27,
   "id": "25f13ff6",
   "metadata": {},
   "outputs": [
    {
     "name": "stderr",
     "output_type": "stream",
     "text": [
      "Warning message in (function (kind = NULL, normal.kind = NULL, sample.kind = NULL) :\n",
      "\"non-uniform 'Rounding' sampler used\"\n"
     ]
    },
    {
     "name": "stdout",
     "output_type": "stream",
     "text": [
      "+ Fold01: degree=2, scale=8.628e-05, C=  0.28364 \n",
      "- Fold01: degree=2, scale=8.628e-05, C=  0.28364 \n",
      "+ Fold01: degree=2, scale=4.385e-02, C= 27.38106 \n",
      "- Fold01: degree=2, scale=4.385e-02, C= 27.38106 \n",
      "+ Fold01: degree=3, scale=1.087e-03, C=  0.11529 \n",
      "- Fold01: degree=3, scale=1.087e-03, C=  0.11529 \n",
      "+ Fold01: degree=1, scale=1.205e-01, C=  0.50289 \n",
      "- Fold01: degree=1, scale=1.205e-01, C=  0.50289 \n",
      "+ Fold01: degree=3, scale=4.348e-03, C=  1.73113 \n",
      "- Fold01: degree=3, scale=4.348e-03, C=  1.73113 \n",
      "+ Fold01: degree=3, scale=6.370e-02, C=  0.03592 \n",
      "- Fold01: degree=3, scale=6.370e-02, C=  0.03592 \n",
      "+ Fold01: degree=2, scale=1.812e+00, C=  1.66534 \n",
      "- Fold01: degree=2, scale=1.812e+00, C=  1.66534 \n",
      "+ Fold01: degree=2, scale=1.034e-03, C=264.17730 \n",
      "- Fold01: degree=2, scale=1.034e-03, C=264.17730 \n",
      "+ Fold01: degree=1, scale=1.322e-01, C=  1.07567 \n",
      "- Fold01: degree=1, scale=1.322e-01, C=  1.07567 \n",
      "+ Fold01: degree=1, scale=9.014e-01, C=  4.69525 \n",
      "- Fold01: degree=1, scale=9.014e-01, C=  4.69525 \n",
      "+ Fold02: degree=2, scale=8.628e-05, C=  0.28364 \n",
      "- Fold02: degree=2, scale=8.628e-05, C=  0.28364 \n",
      "+ Fold02: degree=2, scale=4.385e-02, C= 27.38106 \n",
      "- Fold02: degree=2, scale=4.385e-02, C= 27.38106 \n",
      "+ Fold02: degree=3, scale=1.087e-03, C=  0.11529 \n",
      "- Fold02: degree=3, scale=1.087e-03, C=  0.11529 \n",
      "+ Fold02: degree=1, scale=1.205e-01, C=  0.50289 \n",
      "- Fold02: degree=1, scale=1.205e-01, C=  0.50289 \n",
      "+ Fold02: degree=3, scale=4.348e-03, C=  1.73113 \n",
      "- Fold02: degree=3, scale=4.348e-03, C=  1.73113 \n",
      "+ Fold02: degree=3, scale=6.370e-02, C=  0.03592 \n",
      "- Fold02: degree=3, scale=6.370e-02, C=  0.03592 \n",
      "+ Fold02: degree=2, scale=1.812e+00, C=  1.66534 \n",
      "- Fold02: degree=2, scale=1.812e+00, C=  1.66534 \n",
      "+ Fold02: degree=2, scale=1.034e-03, C=264.17730 \n",
      "- Fold02: degree=2, scale=1.034e-03, C=264.17730 \n",
      "+ Fold02: degree=1, scale=1.322e-01, C=  1.07567 \n",
      "- Fold02: degree=1, scale=1.322e-01, C=  1.07567 \n",
      "+ Fold02: degree=1, scale=9.014e-01, C=  4.69525 \n",
      "- Fold02: degree=1, scale=9.014e-01, C=  4.69525 \n",
      "+ Fold03: degree=2, scale=8.628e-05, C=  0.28364 \n",
      "- Fold03: degree=2, scale=8.628e-05, C=  0.28364 \n",
      "+ Fold03: degree=2, scale=4.385e-02, C= 27.38106 \n",
      "- Fold03: degree=2, scale=4.385e-02, C= 27.38106 \n",
      "+ Fold03: degree=3, scale=1.087e-03, C=  0.11529 \n",
      "- Fold03: degree=3, scale=1.087e-03, C=  0.11529 \n",
      "+ Fold03: degree=1, scale=1.205e-01, C=  0.50289 \n",
      "- Fold03: degree=1, scale=1.205e-01, C=  0.50289 \n",
      "+ Fold03: degree=3, scale=4.348e-03, C=  1.73113 \n",
      "- Fold03: degree=3, scale=4.348e-03, C=  1.73113 \n",
      "+ Fold03: degree=3, scale=6.370e-02, C=  0.03592 \n",
      "- Fold03: degree=3, scale=6.370e-02, C=  0.03592 \n",
      "+ Fold03: degree=2, scale=1.812e+00, C=  1.66534 \n",
      "- Fold03: degree=2, scale=1.812e+00, C=  1.66534 \n",
      "+ Fold03: degree=2, scale=1.034e-03, C=264.17730 \n",
      "- Fold03: degree=2, scale=1.034e-03, C=264.17730 \n",
      "+ Fold03: degree=1, scale=1.322e-01, C=  1.07567 \n",
      "- Fold03: degree=1, scale=1.322e-01, C=  1.07567 \n",
      "+ Fold03: degree=1, scale=9.014e-01, C=  4.69525 \n",
      "- Fold03: degree=1, scale=9.014e-01, C=  4.69525 \n",
      "+ Fold04: degree=2, scale=8.628e-05, C=  0.28364 \n",
      "- Fold04: degree=2, scale=8.628e-05, C=  0.28364 \n",
      "+ Fold04: degree=2, scale=4.385e-02, C= 27.38106 \n",
      "- Fold04: degree=2, scale=4.385e-02, C= 27.38106 \n",
      "+ Fold04: degree=3, scale=1.087e-03, C=  0.11529 \n",
      "- Fold04: degree=3, scale=1.087e-03, C=  0.11529 \n",
      "+ Fold04: degree=1, scale=1.205e-01, C=  0.50289 \n",
      "- Fold04: degree=1, scale=1.205e-01, C=  0.50289 \n",
      "+ Fold04: degree=3, scale=4.348e-03, C=  1.73113 \n",
      "- Fold04: degree=3, scale=4.348e-03, C=  1.73113 \n",
      "+ Fold04: degree=3, scale=6.370e-02, C=  0.03592 \n",
      "- Fold04: degree=3, scale=6.370e-02, C=  0.03592 \n",
      "+ Fold04: degree=2, scale=1.812e+00, C=  1.66534 \n",
      "- Fold04: degree=2, scale=1.812e+00, C=  1.66534 \n",
      "+ Fold04: degree=2, scale=1.034e-03, C=264.17730 \n",
      "- Fold04: degree=2, scale=1.034e-03, C=264.17730 \n",
      "+ Fold04: degree=1, scale=1.322e-01, C=  1.07567 \n",
      "- Fold04: degree=1, scale=1.322e-01, C=  1.07567 \n",
      "+ Fold04: degree=1, scale=9.014e-01, C=  4.69525 \n",
      "- Fold04: degree=1, scale=9.014e-01, C=  4.69525 \n",
      "+ Fold05: degree=2, scale=8.628e-05, C=  0.28364 \n",
      "- Fold05: degree=2, scale=8.628e-05, C=  0.28364 \n",
      "+ Fold05: degree=2, scale=4.385e-02, C= 27.38106 \n",
      "- Fold05: degree=2, scale=4.385e-02, C= 27.38106 \n",
      "+ Fold05: degree=3, scale=1.087e-03, C=  0.11529 \n",
      "- Fold05: degree=3, scale=1.087e-03, C=  0.11529 \n",
      "+ Fold05: degree=1, scale=1.205e-01, C=  0.50289 \n",
      "- Fold05: degree=1, scale=1.205e-01, C=  0.50289 \n",
      "+ Fold05: degree=3, scale=4.348e-03, C=  1.73113 \n",
      "- Fold05: degree=3, scale=4.348e-03, C=  1.73113 \n",
      "+ Fold05: degree=3, scale=6.370e-02, C=  0.03592 \n",
      "- Fold05: degree=3, scale=6.370e-02, C=  0.03592 \n",
      "+ Fold05: degree=2, scale=1.812e+00, C=  1.66534 \n",
      "- Fold05: degree=2, scale=1.812e+00, C=  1.66534 \n",
      "+ Fold05: degree=2, scale=1.034e-03, C=264.17730 \n",
      "- Fold05: degree=2, scale=1.034e-03, C=264.17730 \n",
      "+ Fold05: degree=1, scale=1.322e-01, C=  1.07567 \n",
      "- Fold05: degree=1, scale=1.322e-01, C=  1.07567 \n",
      "+ Fold05: degree=1, scale=9.014e-01, C=  4.69525 \n",
      "- Fold05: degree=1, scale=9.014e-01, C=  4.69525 \n",
      "+ Fold06: degree=2, scale=8.628e-05, C=  0.28364 \n",
      "- Fold06: degree=2, scale=8.628e-05, C=  0.28364 \n",
      "+ Fold06: degree=2, scale=4.385e-02, C= 27.38106 \n",
      "- Fold06: degree=2, scale=4.385e-02, C= 27.38106 \n",
      "+ Fold06: degree=3, scale=1.087e-03, C=  0.11529 \n",
      "- Fold06: degree=3, scale=1.087e-03, C=  0.11529 \n",
      "+ Fold06: degree=1, scale=1.205e-01, C=  0.50289 \n",
      "- Fold06: degree=1, scale=1.205e-01, C=  0.50289 \n",
      "+ Fold06: degree=3, scale=4.348e-03, C=  1.73113 \n",
      "- Fold06: degree=3, scale=4.348e-03, C=  1.73113 \n",
      "+ Fold06: degree=3, scale=6.370e-02, C=  0.03592 \n",
      "- Fold06: degree=3, scale=6.370e-02, C=  0.03592 \n",
      "+ Fold06: degree=2, scale=1.812e+00, C=  1.66534 \n",
      "- Fold06: degree=2, scale=1.812e+00, C=  1.66534 \n",
      "+ Fold06: degree=2, scale=1.034e-03, C=264.17730 \n",
      "- Fold06: degree=2, scale=1.034e-03, C=264.17730 \n",
      "+ Fold06: degree=1, scale=1.322e-01, C=  1.07567 \n",
      "- Fold06: degree=1, scale=1.322e-01, C=  1.07567 \n",
      "+ Fold06: degree=1, scale=9.014e-01, C=  4.69525 \n",
      "- Fold06: degree=1, scale=9.014e-01, C=  4.69525 \n",
      "+ Fold07: degree=2, scale=8.628e-05, C=  0.28364 \n",
      "- Fold07: degree=2, scale=8.628e-05, C=  0.28364 \n",
      "+ Fold07: degree=2, scale=4.385e-02, C= 27.38106 \n",
      "- Fold07: degree=2, scale=4.385e-02, C= 27.38106 \n",
      "+ Fold07: degree=3, scale=1.087e-03, C=  0.11529 \n",
      "- Fold07: degree=3, scale=1.087e-03, C=  0.11529 \n",
      "+ Fold07: degree=1, scale=1.205e-01, C=  0.50289 \n",
      "- Fold07: degree=1, scale=1.205e-01, C=  0.50289 \n",
      "+ Fold07: degree=3, scale=4.348e-03, C=  1.73113 \n",
      "- Fold07: degree=3, scale=4.348e-03, C=  1.73113 \n",
      "+ Fold07: degree=3, scale=6.370e-02, C=  0.03592 \n",
      "- Fold07: degree=3, scale=6.370e-02, C=  0.03592 \n",
      "+ Fold07: degree=2, scale=1.812e+00, C=  1.66534 \n",
      "- Fold07: degree=2, scale=1.812e+00, C=  1.66534 \n",
      "+ Fold07: degree=2, scale=1.034e-03, C=264.17730 \n",
      "- Fold07: degree=2, scale=1.034e-03, C=264.17730 \n",
      "+ Fold07: degree=1, scale=1.322e-01, C=  1.07567 \n",
      "- Fold07: degree=1, scale=1.322e-01, C=  1.07567 \n",
      "+ Fold07: degree=1, scale=9.014e-01, C=  4.69525 \n",
      "- Fold07: degree=1, scale=9.014e-01, C=  4.69525 \n",
      "+ Fold08: degree=2, scale=8.628e-05, C=  0.28364 \n",
      "- Fold08: degree=2, scale=8.628e-05, C=  0.28364 \n",
      "+ Fold08: degree=2, scale=4.385e-02, C= 27.38106 \n",
      "- Fold08: degree=2, scale=4.385e-02, C= 27.38106 \n",
      "+ Fold08: degree=3, scale=1.087e-03, C=  0.11529 \n",
      "- Fold08: degree=3, scale=1.087e-03, C=  0.11529 \n",
      "+ Fold08: degree=1, scale=1.205e-01, C=  0.50289 \n",
      "- Fold08: degree=1, scale=1.205e-01, C=  0.50289 \n",
      "+ Fold08: degree=3, scale=4.348e-03, C=  1.73113 \n",
      "- Fold08: degree=3, scale=4.348e-03, C=  1.73113 \n",
      "+ Fold08: degree=3, scale=6.370e-02, C=  0.03592 \n",
      "- Fold08: degree=3, scale=6.370e-02, C=  0.03592 \n",
      "+ Fold08: degree=2, scale=1.812e+00, C=  1.66534 \n",
      "- Fold08: degree=2, scale=1.812e+00, C=  1.66534 \n",
      "+ Fold08: degree=2, scale=1.034e-03, C=264.17730 \n",
      "- Fold08: degree=2, scale=1.034e-03, C=264.17730 \n",
      "+ Fold08: degree=1, scale=1.322e-01, C=  1.07567 \n",
      "- Fold08: degree=1, scale=1.322e-01, C=  1.07567 \n",
      "+ Fold08: degree=1, scale=9.014e-01, C=  4.69525 \n",
      "- Fold08: degree=1, scale=9.014e-01, C=  4.69525 \n",
      "+ Fold09: degree=2, scale=8.628e-05, C=  0.28364 \n",
      "- Fold09: degree=2, scale=8.628e-05, C=  0.28364 \n",
      "+ Fold09: degree=2, scale=4.385e-02, C= 27.38106 \n",
      "- Fold09: degree=2, scale=4.385e-02, C= 27.38106 \n",
      "+ Fold09: degree=3, scale=1.087e-03, C=  0.11529 \n",
      "- Fold09: degree=3, scale=1.087e-03, C=  0.11529 \n",
      "+ Fold09: degree=1, scale=1.205e-01, C=  0.50289 \n",
      "- Fold09: degree=1, scale=1.205e-01, C=  0.50289 \n",
      "+ Fold09: degree=3, scale=4.348e-03, C=  1.73113 \n",
      "- Fold09: degree=3, scale=4.348e-03, C=  1.73113 \n",
      "+ Fold09: degree=3, scale=6.370e-02, C=  0.03592 \n",
      "- Fold09: degree=3, scale=6.370e-02, C=  0.03592 \n",
      "+ Fold09: degree=2, scale=1.812e+00, C=  1.66534 \n",
      "- Fold09: degree=2, scale=1.812e+00, C=  1.66534 \n",
      "+ Fold09: degree=2, scale=1.034e-03, C=264.17730 \n",
      "- Fold09: degree=2, scale=1.034e-03, C=264.17730 \n",
      "+ Fold09: degree=1, scale=1.322e-01, C=  1.07567 \n",
      "- Fold09: degree=1, scale=1.322e-01, C=  1.07567 \n",
      "+ Fold09: degree=1, scale=9.014e-01, C=  4.69525 \n",
      "- Fold09: degree=1, scale=9.014e-01, C=  4.69525 \n",
      "+ Fold10: degree=2, scale=8.628e-05, C=  0.28364 \n",
      "- Fold10: degree=2, scale=8.628e-05, C=  0.28364 \n",
      "+ Fold10: degree=2, scale=4.385e-02, C= 27.38106 \n",
      "- Fold10: degree=2, scale=4.385e-02, C= 27.38106 \n",
      "+ Fold10: degree=3, scale=1.087e-03, C=  0.11529 \n",
      "- Fold10: degree=3, scale=1.087e-03, C=  0.11529 \n",
      "+ Fold10: degree=1, scale=1.205e-01, C=  0.50289 \n",
      "- Fold10: degree=1, scale=1.205e-01, C=  0.50289 \n",
      "+ Fold10: degree=3, scale=4.348e-03, C=  1.73113 \n",
      "- Fold10: degree=3, scale=4.348e-03, C=  1.73113 \n",
      "+ Fold10: degree=3, scale=6.370e-02, C=  0.03592 \n",
      "- Fold10: degree=3, scale=6.370e-02, C=  0.03592 \n",
      "+ Fold10: degree=2, scale=1.812e+00, C=  1.66534 \n",
      "- Fold10: degree=2, scale=1.812e+00, C=  1.66534 \n",
      "+ Fold10: degree=2, scale=1.034e-03, C=264.17730 \n",
      "- Fold10: degree=2, scale=1.034e-03, C=264.17730 \n",
      "+ Fold10: degree=1, scale=1.322e-01, C=  1.07567 \n",
      "- Fold10: degree=1, scale=1.322e-01, C=  1.07567 \n",
      "+ Fold10: degree=1, scale=9.014e-01, C=  4.69525 \n",
      "- Fold10: degree=1, scale=9.014e-01, C=  4.69525 \n"
     ]
    },
    {
     "name": "stderr",
     "output_type": "stream",
     "text": [
      "Warning message in nominalTrainWorkflow(x = x, y = y, wts = weights, info = trainInfo, :\n",
      "\"There were missing values in resampled performance measures.\"\n"
     ]
    },
    {
     "name": "stdout",
     "output_type": "stream",
     "text": [
      "Aggregating results\n",
      "Selecting tuning parameters\n",
      "Fitting degree = 2, scale = 1.81, C = 1.67 on full training set\n"
     ]
    },
    {
     "data": {
      "text/plain": [
       "    pred\n",
       "true   0   1\n",
       "   0 784 195\n",
       "   1  16  27"
      ]
     },
     "metadata": {},
     "output_type": "display_data"
    },
    {
     "name": "stdout",
     "output_type": "stream",
     "text": [
      "[1] 0.2064579\n"
     ]
    }
   ],
   "source": [
    "set.seed(1)\n",
    "\n",
    "ctrl <- trainControl(method = \"cv\",\n",
    "                     number = 10, \n",
    "                     summaryFunction = prSummary, # TUNE ON F1 SCORE\n",
    "                     verboseIter = T,\n",
    "                     search = \"random\") #randomly tries hyperparameters, faster than giving a grid, gave better results\n",
    "\n",
    "\n",
    "svmFit3 <- train(stroke~.,data=smotedown_train,\n",
    "                 method = \"svmPoly\",\n",
    "                 trControl = ctrl,\n",
    "                 tuneLength = 10, #Number fo random parameter it will try on each fold\n",
    "                 metric = \"F\", #fitting as to maximize F which in turn will seek to maximize recall\n",
    "                scale = FALSE) \n",
    "\n",
    "svm.pred3 <- predict(svmFit3, newdata = data.df.test)\n",
    "\n",
    "table(true = y.test, pred = svm.pred3)\n",
    "\n",
    "print(mean(svm.pred3 != y.test))"
   ]
  },
  {
   "cell_type": "markdown",
   "id": "c4c38fd0",
   "metadata": {},
   "source": [
    "While the results have improved from those obtained without using sampling, there are still far from desirable. In this case, recall was .628 (a four-fold improvement) and accurarcy was 80%. I will now proceed to remove attributes that do not show any correlation (measured previously) with the objective class and compare those results with the above."
   ]
  },
  {
   "cell_type": "code",
   "execution_count": 28,
   "id": "26312a2a",
   "metadata": {},
   "outputs": [],
   "source": [
    "newdata.df <- data.df[,c(\"age\",\"bmi\", \"avg_glucose_level\",\"smoking_status_formerly smoked\", \"work_type_Self-employed\",\"work_type_children\",\n",
    "                           \"ever_married_Yes\", \"ever_married_No\",\"heart_disease\", \"hypertension\", \"stroke\")]\n",
    "\n",
    "col <- as.numeric(ncol(newdata.df))"
   ]
  },
  {
   "cell_type": "code",
   "execution_count": 29,
   "id": "189a37b9",
   "metadata": {},
   "outputs": [],
   "source": [
    "data.df.train2 <- newdata.df \n",
    "data.df.test2 <- subset(newdata.df[-train,], select = -stroke )"
   ]
  },
  {
   "cell_type": "code",
   "execution_count": 30,
   "id": "bf38bf3c",
   "metadata": {},
   "outputs": [],
   "source": [
    "set.seed(1)\n",
    "\n",
    "smote_train <- smote(data.df.train2, var = \"stroke\", over_ratio = .3) #used SMOTE, with a representation of 30% of the majority class observations"
   ]
  },
  {
   "cell_type": "code",
   "execution_count": 31,
   "id": "709ef869",
   "metadata": {},
   "outputs": [],
   "source": [
    "cnames <- colnames(smote_train)\n",
    "num <- c(\"age\", \"bmi\", \"avg_glucose_level\", \"stroke\")\n",
    "nonnum <- cnames[!(cnames %in% num)]"
   ]
  },
  {
   "cell_type": "code",
   "execution_count": 32,
   "id": "bfb82535",
   "metadata": {},
   "outputs": [],
   "source": [
    "for (x in nonnum){\n",
    "    smote_train[,x] <- round(smote_train[,x])\n",
    "}"
   ]
  },
  {
   "cell_type": "code",
   "execution_count": 33,
   "id": "c35d6e68",
   "metadata": {},
   "outputs": [
    {
     "data": {
      "text/html": [
       "<style>\n",
       ".dl-inline {width: auto; margin:0; padding: 0}\n",
       ".dl-inline>dt, .dl-inline>dd {float: none; width: auto; display: inline-block}\n",
       ".dl-inline>dt::after {content: \":\\0020\"; padding-right: .5ex}\n",
       ".dl-inline>dt:not(:first-of-type) {padding-left: .5ex}\n",
       "</style><dl class=dl-inline><dt>0</dt><dd>4861</dd><dt>1</dt><dd>1458</dd></dl>\n"
      ],
      "text/latex": [
       "\\begin{description*}\n",
       "\\item[0] 4861\n",
       "\\item[1] 1458\n",
       "\\end{description*}\n"
      ],
      "text/markdown": [
       "0\n",
       ":   48611\n",
       ":   1458\n",
       "\n"
      ],
      "text/plain": [
       "   0    1 \n",
       "4861 1458 "
      ]
     },
     "metadata": {},
     "output_type": "display_data"
    }
   ],
   "source": [
    "summary(smote_train$stroke)"
   ]
  },
  {
   "cell_type": "markdown",
   "id": "18937176",
   "metadata": {},
   "source": [
    "In this case, we will be increasing the majority class to 2000 in order to address the false positives."
   ]
  },
  {
   "cell_type": "code",
   "execution_count": 34,
   "id": "e1f51ca1",
   "metadata": {},
   "outputs": [],
   "source": [
    "smote_nostroke <- smote_train[smote_train$stroke == 0, ] #extracted observations with no stroke\n",
    "smotedown_train_pre <- smote_nostroke[c(1:2000),] #selected 1650 observations (undersampling size that gave best results)\n",
    "smotedown_train <- rbind(smotedown_train_pre,smote_train[smote_train$stroke == 1, ]) #joined back together with stroke observations\n"
   ]
  },
  {
   "cell_type": "code",
   "execution_count": 35,
   "id": "ba1dae7f",
   "metadata": {},
   "outputs": [
    {
     "name": "stderr",
     "output_type": "stream",
     "text": [
      "Warning message in (function (kind = NULL, normal.kind = NULL, sample.kind = NULL) :\n",
      "\"non-uniform 'Rounding' sampler used\"\n"
     ]
    },
    {
     "name": "stdout",
     "output_type": "stream",
     "text": [
      "+ Fold01: degree=2, scale=0.0001173, C=30.10574 \n",
      "- Fold01: degree=2, scale=0.0001173, C=30.10574 \n",
      "+ Fold01: degree=2, scale=0.5786163, C=21.65624 \n",
      "- Fold01: degree=2, scale=0.5786163, C=21.65624 \n",
      "+ Fold01: degree=3, scale=1.0180097, C= 0.05941 \n",
      "- Fold01: degree=3, scale=1.0180097, C= 0.05941 \n",
      "+ Fold02: degree=2, scale=0.0001173, C=30.10574 \n",
      "- Fold02: degree=2, scale=0.0001173, C=30.10574 \n",
      "+ Fold02: degree=2, scale=0.5786163, C=21.65624 \n",
      "- Fold02: degree=2, scale=0.5786163, C=21.65624 \n",
      "+ Fold02: degree=3, scale=1.0180097, C= 0.05941 \n",
      "- Fold02: degree=3, scale=1.0180097, C= 0.05941 \n",
      "+ Fold03: degree=2, scale=0.0001173, C=30.10574 \n",
      "- Fold03: degree=2, scale=0.0001173, C=30.10574 \n",
      "+ Fold03: degree=2, scale=0.5786163, C=21.65624 \n",
      "- Fold03: degree=2, scale=0.5786163, C=21.65624 \n",
      "+ Fold03: degree=3, scale=1.0180097, C= 0.05941 \n",
      "- Fold03: degree=3, scale=1.0180097, C= 0.05941 \n",
      "+ Fold04: degree=2, scale=0.0001173, C=30.10574 \n",
      "- Fold04: degree=2, scale=0.0001173, C=30.10574 \n",
      "+ Fold04: degree=2, scale=0.5786163, C=21.65624 \n",
      "- Fold04: degree=2, scale=0.5786163, C=21.65624 \n",
      "+ Fold04: degree=3, scale=1.0180097, C= 0.05941 \n",
      "- Fold04: degree=3, scale=1.0180097, C= 0.05941 \n",
      "+ Fold05: degree=2, scale=0.0001173, C=30.10574 \n",
      "- Fold05: degree=2, scale=0.0001173, C=30.10574 \n",
      "+ Fold05: degree=2, scale=0.5786163, C=21.65624 \n",
      "- Fold05: degree=2, scale=0.5786163, C=21.65624 \n",
      "+ Fold05: degree=3, scale=1.0180097, C= 0.05941 \n",
      "- Fold05: degree=3, scale=1.0180097, C= 0.05941 \n",
      "+ Fold06: degree=2, scale=0.0001173, C=30.10574 \n",
      "- Fold06: degree=2, scale=0.0001173, C=30.10574 \n",
      "+ Fold06: degree=2, scale=0.5786163, C=21.65624 \n",
      "- Fold06: degree=2, scale=0.5786163, C=21.65624 \n",
      "+ Fold06: degree=3, scale=1.0180097, C= 0.05941 \n",
      "- Fold06: degree=3, scale=1.0180097, C= 0.05941 \n",
      "+ Fold07: degree=2, scale=0.0001173, C=30.10574 \n",
      "- Fold07: degree=2, scale=0.0001173, C=30.10574 \n",
      "+ Fold07: degree=2, scale=0.5786163, C=21.65624 \n",
      "- Fold07: degree=2, scale=0.5786163, C=21.65624 \n",
      "+ Fold07: degree=3, scale=1.0180097, C= 0.05941 \n",
      "- Fold07: degree=3, scale=1.0180097, C= 0.05941 \n",
      "+ Fold08: degree=2, scale=0.0001173, C=30.10574 \n",
      "- Fold08: degree=2, scale=0.0001173, C=30.10574 \n",
      "+ Fold08: degree=2, scale=0.5786163, C=21.65624 \n",
      "- Fold08: degree=2, scale=0.5786163, C=21.65624 \n",
      "+ Fold08: degree=3, scale=1.0180097, C= 0.05941 \n",
      "- Fold08: degree=3, scale=1.0180097, C= 0.05941 \n",
      "+ Fold09: degree=2, scale=0.0001173, C=30.10574 \n",
      "- Fold09: degree=2, scale=0.0001173, C=30.10574 \n",
      "+ Fold09: degree=2, scale=0.5786163, C=21.65624 \n",
      "- Fold09: degree=2, scale=0.5786163, C=21.65624 \n",
      "+ Fold09: degree=3, scale=1.0180097, C= 0.05941 \n",
      "- Fold09: degree=3, scale=1.0180097, C= 0.05941 \n",
      "+ Fold10: degree=2, scale=0.0001173, C=30.10574 \n",
      "- Fold10: degree=2, scale=0.0001173, C=30.10574 \n",
      "+ Fold10: degree=2, scale=0.5786163, C=21.65624 \n",
      "- Fold10: degree=2, scale=0.5786163, C=21.65624 \n",
      "+ Fold10: degree=3, scale=1.0180097, C= 0.05941 \n",
      "- Fold10: degree=3, scale=1.0180097, C= 0.05941 \n"
     ]
    },
    {
     "name": "stderr",
     "output_type": "stream",
     "text": [
      "Warning message in nominalTrainWorkflow(x = x, y = y, wts = weights, info = trainInfo, :\n",
      "\"There were missing values in resampled performance measures.\"\n"
     ]
    },
    {
     "name": "stdout",
     "output_type": "stream",
     "text": [
      "Aggregating results\n",
      "Selecting tuning parameters\n",
      "Fitting degree = 3, scale = 1.02, C = 0.0594 on full training set\n"
     ]
    },
    {
     "data": {
      "text/plain": [
       "    pred\n",
       "true   0   1\n",
       "   0 814 165\n",
       "   1   8  35"
      ]
     },
     "metadata": {},
     "output_type": "display_data"
    },
    {
     "name": "stdout",
     "output_type": "stream",
     "text": [
      "[1] 0.1692759\n"
     ]
    }
   ],
   "source": [
    "set.seed(1)\n",
    "\n",
    "ctrl <- trainControl(method = \"cv\",\n",
    "                     number = 10, \n",
    "                     summaryFunction = prSummary, # TUNE ON F1 SCORE\n",
    "                     verboseIter = T,\n",
    "                     #sampling = \"down\",\n",
    "                     search = \"random\") #randomly tries hyperparameters, faster than giving a grid, gave better results\n",
    "\n",
    "\n",
    "svmFit3 <- train(stroke~.,data=smotedown_train,\n",
    "                 method = \"svmPoly\",\n",
    "                 trControl = ctrl,\n",
    "                 metric = \"F\",\n",
    "                tuneLength = 3) #fitting as to maximize F which in turn will seek to maximize recall\n",
    "\n",
    "svm.pred3 <- predict(svmFit3,newdata = data.df.test2)\n",
    "\n",
    "table(true = y.test, pred = svm.pred3)\n",
    "\n",
    "print(mean(svm.pred3 != y.test))"
   ]
  },
  {
   "cell_type": "markdown",
   "id": "cd2695b2",
   "metadata": {},
   "source": [
    "In this case we obtained a recall of .814 and an total %error of 17%. This is an improvement over the scores obtained using all the attributes, as focusing on only the attributes that showed some correlation with the objective class variable improved the recall score by 30%."
   ]
  },
  {
   "cell_type": "markdown",
   "id": "a92e30bb",
   "metadata": {},
   "source": [
    "<h3>Conclusion</h3>\n",
    "\n",
    "As expected, the biggest challenge in properly modeling the data provided was finding how to deal with the considerable class imbalance. Performing SMOTE, followed by undersampling improved the recall score by more than four times (.13 vs .63) Further feature selection, such as selecting the attributes that showed correlation with the objective class variable further improved the recall score to .81, while maintaining an total accuracy of .83. Further iterations would make use of different algorithms to fit the data in order to improve these scores. In terms of data cleaning/feature manipulation, there is a large number of patients that showed as smoking status: Unknown. Further itereations could attempt to predict these data points, such as through the use of MissForest, as having smoked is one of the features that showed correlation with suffering a stroke."
   ]
  },
  {
   "cell_type": "code",
   "execution_count": null,
   "id": "76136be2",
   "metadata": {},
   "outputs": [],
   "source": []
  }
 ],
 "metadata": {
  "kernelspec": {
   "display_name": "R",
   "language": "R",
   "name": "ir"
  },
  "language_info": {
   "codemirror_mode": "r",
   "file_extension": ".r",
   "mimetype": "text/x-r-source",
   "name": "R",
   "pygments_lexer": "r",
   "version": "4.1.3"
  }
 },
 "nbformat": 4,
 "nbformat_minor": 5
}
